{
 "cells": [
  {
   "cell_type": "code",
   "execution_count": 1,
   "id": "e29bcd8b",
   "metadata": {},
   "outputs": [],
   "source": [
    "#list inside list"
   ]
  },
  {
   "cell_type": "code",
   "execution_count": 5,
   "id": "aa4ca838",
   "metadata": {},
   "outputs": [
    {
     "name": "stdout",
     "output_type": "stream",
     "text": [
      "[[1, 2, 3], [4, 5, 6], [7, 8, 9]]\n"
     ]
    }
   ],
   "source": [
    "l= [[1,2,3],\n",
    "   [4,5,6],\n",
    "   [7,8,9]]\n",
    "print(l)"
   ]
  },
  {
   "cell_type": "code",
   "execution_count": 6,
   "id": "eb2204a5",
   "metadata": {},
   "outputs": [
    {
     "name": "stdout",
     "output_type": "stream",
     "text": [
      "[['ram', 65, 'ktm'], ['shyam', 76, 'lalitpur'], ['rita', 53, 'kathmandu']]\n"
     ]
    }
   ],
   "source": [
    "data = [[\"ram\",65,\"ktm\"],\n",
    "       [\"shyam\",76,\"lalitpur\"],\n",
    "       [\"rita\",53,\"kathmandu\"]]\n",
    "print(data)"
   ]
  },
  {
   "cell_type": "code",
   "execution_count": 7,
   "id": "82854f1f",
   "metadata": {},
   "outputs": [
    {
     "data": {
      "text/plain": [
       "['rita', 53, 'kathmandu']"
      ]
     },
     "execution_count": 7,
     "metadata": {},
     "output_type": "execute_result"
    }
   ],
   "source": [
    "data[2]"
   ]
  },
  {
   "cell_type": "code",
   "execution_count": 10,
   "id": "d290d93f",
   "metadata": {},
   "outputs": [
    {
     "data": {
      "text/plain": [
       "'ram'"
      ]
     },
     "execution_count": 10,
     "metadata": {},
     "output_type": "execute_result"
    }
   ],
   "source": [
    "data[0][0]"
   ]
  },
  {
   "cell_type": "code",
   "execution_count": 14,
   "id": "40041b22",
   "metadata": {},
   "outputs": [
    {
     "name": "stdout",
     "output_type": "stream",
     "text": [
      "enter the value n 3\n",
      "enter a name Bijika\n",
      "enter a age 19\n",
      "enter a add panauti\n",
      "enter a name Shreeya\n",
      "enter a age 19\n",
      "enter a add ktm\n",
      "enter a name Sabera\n",
      "enter a age 18\n",
      "enter a add panauti\n",
      "[['Bijika', 19, 'panauti'], ['Shreeya', 19, 'ktm'], ['Sabera', 18, 'panauti']]\n"
     ]
    }
   ],
   "source": [
    "info=[]\n",
    "n=int(input(\"enter the value n \"))\n",
    "for i in range (n):\n",
    "    name = input(\"enter a name \")\n",
    "    age = int(input(\"enter a age \"))\n",
    "    add = input(\"enter a add \")\n",
    "    info.append([name,age,add])\n",
    "print (info)\n"
   ]
  },
  {
   "cell_type": "code",
   "execution_count": 16,
   "id": "1d8607b6",
   "metadata": {},
   "outputs": [
    {
     "name": "stdout",
     "output_type": "stream",
     "text": [
      "enter a nameShreeya\n",
      "['Shreeya', 19, 'ktm']\n"
     ]
    }
   ],
   "source": [
    "data = [['Bijika', 19, 'panauti'], \n",
    "        ['Shreeya', 19, 'ktm'],\n",
    "        ['Sabera', 18, 'panauti']]\n",
    "name = input(\"enter a name\")\n",
    "for i in data:\n",
    "    if name in i:\n",
    "        print (i)\n"
   ]
  },
  {
   "cell_type": "code",
   "execution_count": 20,
   "id": "3b56a2df",
   "metadata": {},
   "outputs": [
    {
     "data": {
      "text/plain": [
       "[['Bgka', 19, 'panauti'], ['Shreeya', 19, 'ktm'], ['Sabera', 18, 'panauti']]"
      ]
     },
     "execution_count": 20,
     "metadata": {},
     "output_type": "execute_result"
    }
   ],
   "source": [
    "data = [['Bijika', 19, 'panauti'], \n",
    "        ['Shreeya', 19, 'ktm'], \n",
    "        ['Sabera', 18, 'panauti']]\n",
    "data[0][0] = \"Bgka\"\n",
    "data"
   ]
  },
  {
   "cell_type": "code",
   "execution_count": null,
   "id": "c75b9541",
   "metadata": {},
   "outputs": [],
   "source": [
    "mat=[]\n",
    "r =int(input(\"enter r= \"))\n",
    "c = int(input(\"enter c= \"))\n",
    "for i in range(r):\n",
    "    z=[]\n",
    "    for j in range(c):\n",
    "        x =int(input(\"enter x= \"))\n",
    "        z.append(x)\n",
    "    mat.append(z)\n",
    "print (mat)\n",
    "        \n",
    "        "
   ]
  },
  {
   "cell_type": "code",
   "execution_count": null,
   "id": "35d275b3",
   "metadata": {},
   "outputs": [],
   "source": []
  }
 ],
 "metadata": {
  "kernelspec": {
   "display_name": "Python 3 (ipykernel)",
   "language": "python",
   "name": "python3"
  },
  "language_info": {
   "codemirror_mode": {
    "name": "ipython",
    "version": 3
   },
   "file_extension": ".py",
   "mimetype": "text/x-python",
   "name": "python",
   "nbconvert_exporter": "python",
   "pygments_lexer": "ipython3",
   "version": "3.11.5"
  }
 },
 "nbformat": 4,
 "nbformat_minor": 5
}
