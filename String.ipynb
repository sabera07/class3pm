{
 "cells": [
  {
   "cell_type": "code",
   "execution_count": null,
   "id": "eb943d4e",
   "metadata": {},
   "outputs": [],
   "source": [
    "a = 'Hello World\\n'\n",
    "print (a*2)\n"
   ]
  },
  {
   "cell_type": "code",
   "execution_count": 4,
   "id": "30a6912e",
   "metadata": {},
   "outputs": [
    {
     "name": "stdout",
     "output_type": "stream",
     "text": [
      "h\n",
      "hell\n",
      "hlowr\n"
     ]
    }
   ],
   "source": [
    "a = \"hello world\"\n",
    "print (a[0])\n",
    "print(a[0:4])\n",
    "print (a[0:9:2])"
   ]
  },
  {
   "cell_type": "code",
   "execution_count": 5,
   "id": "e3ae60ee",
   "metadata": {},
   "outputs": [
    {
     "name": "stdout",
     "output_type": "stream",
     "text": [
      "hello world\n",
      "hello\n"
     ]
    }
   ],
   "source": [
    "a = \"hello world\"\n",
    "b = (a[0:5])\n",
    "print(a)\n",
    "print(b)"
   ]
  },
  {
   "cell_type": "code",
   "execution_count": 9,
   "id": "39f9afe9",
   "metadata": {},
   "outputs": [
    {
     "name": "stdout",
     "output_type": "stream",
     "text": [
      "Hello world. I am Ram. i am 56 I am from Kathmandu\n"
     ]
    }
   ],
   "source": [
    "name = \"Ram\"\n",
    "age = 56\n",
    "add = \"Kathmandu\"\n",
    "info = f\"Hello world. I am {name}. i am {age} I am from {add}\"\n",
    "print (info)"
   ]
  },
  {
   "cell_type": "code",
   "execution_count": 8,
   "id": "c0f51b83",
   "metadata": {},
   "outputs": [
    {
     "name": "stdout",
     "output_type": "stream",
     "text": [
      "enter the value n1\n",
      "enter a nameSabera\n",
      "enter a age18\n",
      "enter a addkathmandu\n",
      "Sabera 18 kathmandu\n",
      "\n"
     ]
    }
   ],
   "source": [
    "s = \"\"\n",
    "n = int(input (\"enter the value n\"))\n",
    "for i in range (n):\n",
    "    name = input(\"enter a name\")\n",
    "    age = int(input(\"enter a age\"))\n",
    "    add = input(\"enter a add\")\n",
    "    info = f\"{name} {age} {add}\\n\"\n",
    "    s = s + info\n",
    "print (s)"
   ]
  },
  {
   "cell_type": "code",
   "execution_count": 4,
   "id": "548e9869",
   "metadata": {},
   "outputs": [
    {
     "name": "stdout",
     "output_type": "stream",
     "text": [
      "drWolH\n"
     ]
    }
   ],
   "source": [
    "a = \"Hello World\"\n",
    "print (a[-1:-12:-2])"
   ]
  },
  {
   "cell_type": "code",
   "execution_count": 4,
   "id": "29c1fc38",
   "metadata": {},
   "outputs": [
    {
     "name": "stdout",
     "output_type": "stream",
     "text": [
      "enter a name rita\n",
      "No\n"
     ]
    }
   ],
   "source": [
    "a = \"Ram shyam hari Rita\".lower()\n",
    "name = input(\"enter a name \").lower()\n",
    "if name in a:\n",
    "    print (\"Yes\")\n",
    "    print (\"a. count(name)\")\n",
    "else:\n",
    "    print (\"No\")"
   ]
  },
  {
   "cell_type": "code",
   "execution_count": null,
   "id": "c1cac6af",
   "metadata": {},
   "outputs": [],
   "source": [
    "a = \"Ram shyam hari Rita\"\n",
    "print (a.lower())\n",
    "print (a.upper())"
   ]
  },
  {
   "cell_type": "code",
   "execution_count": 5,
   "id": "88f1acc6",
   "metadata": {},
   "outputs": [
    {
     "name": "stdout",
     "output_type": "stream",
     "text": [
      "Hello World"
     ]
    }
   ],
   "source": [
    "a=\"Hello World\"\n",
    "l = len(a)\n",
    "i = 0\n",
    "while i<l:\n",
    "    print(a[i], end=\"\")\n",
    "    i = i+1"
   ]
  },
  {
   "cell_type": "code",
   "execution_count": 8,
   "id": "9367d7cb",
   "metadata": {},
   "outputs": [
    {
     "data": {
      "text/plain": [
       "'ram Shyam Hari Ramesh'"
      ]
     },
     "execution_count": 8,
     "metadata": {},
     "output_type": "execute_result"
    }
   ],
   "source": [
    "a = \"Ram Shyam Hari Ramesh\"\n",
    "a.replace(\"Ram \",\"ram \")"
   ]
  },
  {
   "cell_type": "code",
   "execution_count": 9,
   "id": "b5f7b9aa",
   "metadata": {},
   "outputs": [
    {
     "data": {
      "text/plain": [
       "['Ram', 'Shyam', 'Hari', 'Ramesh']"
      ]
     },
     "execution_count": 9,
     "metadata": {},
     "output_type": "execute_result"
    }
   ],
   "source": [
    "a.split()"
   ]
  },
  {
   "cell_type": "code",
   "execution_count": 10,
   "id": "7450820d",
   "metadata": {},
   "outputs": [
    {
     "data": {
      "text/plain": [
       "['Ram', 'Shyam', 'Hari', 'Ramesh']"
      ]
     },
     "execution_count": 10,
     "metadata": {},
     "output_type": "execute_result"
    }
   ],
   "source": [
    "a = \"Ram_Shyam_Hari_Ramesh\"\n",
    "a.split(\"_\")"
   ]
  },
  {
   "cell_type": "code",
   "execution_count": 7,
   "id": "14cb039e",
   "metadata": {},
   "outputs": [
    {
     "name": "stdout",
     "output_type": "stream",
     "text": [
      "enter a name sabera\n",
      "enter a age 18\n",
      "enter a add kathmandu\n",
      "Hello World. I am sabera. I am 18 years old. I live in kathmandu.\n"
     ]
    }
   ],
   "source": [
    "name= input(\"enter a name \")\n",
    "age = int(input(\"enter a age \"))\n",
    "add = input(\"enter a add \")\n",
    "info = f\"Hello World. I am {name}. I am {age} years old. I live in {add}.\"\n",
    "print (info)"
   ]
  },
  {
   "cell_type": "code",
   "execution_count": 9,
   "id": "f0963260",
   "metadata": {},
   "outputs": [
    {
     "data": {
      "text/plain": [
       "11"
      ]
     },
     "execution_count": 9,
     "metadata": {},
     "output_type": "execute_result"
    }
   ],
   "source": [
    "len (a)"
   ]
  },
  {
   "cell_type": "code",
   "execution_count": 10,
   "id": "ddd1c841",
   "metadata": {},
   "outputs": [
    {
     "data": {
      "text/plain": [
       "11"
      ]
     },
     "execution_count": 10,
     "metadata": {},
     "output_type": "execute_result"
    }
   ],
   "source": [
    "len(a)"
   ]
  },
  {
   "cell_type": "code",
   "execution_count": 13,
   "id": "b9fdb440",
   "metadata": {},
   "outputs": [
    {
     "data": {
      "text/plain": [
       "['Ram', 'Shyam', 'Hari', 'Sita', 'Gita', 'Ramesh']"
      ]
     },
     "execution_count": 13,
     "metadata": {},
     "output_type": "execute_result"
    }
   ],
   "source": [
    "a = \"Ram Shyam Hari Sita Gita Ramesh\"\n",
    "\n",
    "a.split(\" \")"
   ]
  },
  {
   "cell_type": "code",
   "execution_count": null,
   "id": "4d8ff6ab",
   "metadata": {},
   "outputs": [],
   "source": []
  }
 ],
 "metadata": {
  "kernelspec": {
   "display_name": "Python 3 (ipykernel)",
   "language": "python",
   "name": "python3"
  },
  "language_info": {
   "codemirror_mode": {
    "name": "ipython",
    "version": 3
   },
   "file_extension": ".py",
   "mimetype": "text/x-python",
   "name": "python",
   "nbconvert_exporter": "python",
   "pygments_lexer": "ipython3",
   "version": "3.11.5"
  }
 },
 "nbformat": 4,
 "nbformat_minor": 5
}
