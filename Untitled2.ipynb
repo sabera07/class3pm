{
 "cells": [
  {
   "cell_type": "code",
   "execution_count": 4,
   "id": "c680dd68",
   "metadata": {},
   "outputs": [
    {
     "name": "stdout",
     "output_type": "stream",
     "text": [
      "enter l = 32\n",
      "enter b = 34\n",
      "enter h = 56\n",
      "60928\n"
     ]
    }
   ],
   "source": [
    "def cal():\n",
    "    l=int(input(\"enter l = \"))\n",
    "    b=int(input(\"enter b = \"))\n",
    "    h=int(input(\"enter h = \"))\n",
    "    v=l*b*h\n",
    "    print (v)\n",
    "cal()\n"
   ]
  },
  {
   "cell_type": "code",
   "execution_count": null,
   "id": "9efa2973",
   "metadata": {},
   "outputs": [],
   "source": []
  }
 ],
 "metadata": {
  "kernelspec": {
   "display_name": "Python 3 (ipykernel)",
   "language": "python",
   "name": "python3"
  },
  "language_info": {
   "codemirror_mode": {
    "name": "ipython",
    "version": 3
   },
   "file_extension": ".py",
   "mimetype": "text/x-python",
   "name": "python",
   "nbconvert_exporter": "python",
   "pygments_lexer": "ipython3",
   "version": "3.11.5"
  }
 },
 "nbformat": 4,
 "nbformat_minor": 5
}
