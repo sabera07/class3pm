{
 "cells": [
  {
   "cell_type": "code",
   "execution_count": 1,
   "id": "e801af70",
   "metadata": {},
   "outputs": [],
   "source": [
    "# for loop\n",
    "# while loop\n"
   ]
  },
  {
   "cell_type": "code",
   "execution_count": 6,
   "id": "28be1dbe",
   "metadata": {},
   "outputs": [],
   "source": [
    "# range(5) 0,1,2,3,4\n",
    "# range(1,5)  1,2,3,4\n",
    "# range(1,10,2)  1,3,5,7,9"
   ]
  },
  {
   "cell_type": "code",
   "execution_count": 3,
   "id": "b013bdaa",
   "metadata": {},
   "outputs": [
    {
     "name": "stdout",
     "output_type": "stream",
     "text": [
      "0\n",
      "1\n",
      "2\n",
      "3\n",
      "4\n"
     ]
    }
   ],
   "source": [
    "for i in range(5):\n",
    "    print(i)"
   ]
  },
  {
   "cell_type": "code",
   "execution_count": 10,
   "id": "c3dcc504",
   "metadata": {},
   "outputs": [
    {
     "name": "stdout",
     "output_type": "stream",
     "text": [
      "1 4 7 10 13 16 19 "
     ]
    }
   ],
   "source": [
    "for i in range(1,20,3):\n",
    "    print(i, end = \" \")"
   ]
  },
  {
   "cell_type": "code",
   "execution_count": 5,
   "id": "a506744a",
   "metadata": {},
   "outputs": [
    {
     "name": "stdout",
     "output_type": "stream",
     "text": [
      "1\n",
      "2\n",
      "3\n",
      "4\n"
     ]
    }
   ],
   "source": [
    "for i in range(1,5):\n",
    "    print(i)"
   ]
  },
  {
   "cell_type": "code",
   "execution_count": 11,
   "id": "94a82406",
   "metadata": {},
   "outputs": [
    {
     "name": "stdout",
     "output_type": "stream",
     "text": [
      "hello world hello world hello world hello world "
     ]
    }
   ],
   "source": [
    "for i in range(1,5):\n",
    "    print(\"hello world\", end = \" \")"
   ]
  },
  {
   "cell_type": "code",
   "execution_count": 14,
   "id": "035aeaf7",
   "metadata": {},
   "outputs": [
    {
     "name": "stdout",
     "output_type": "stream",
     "text": [
      "enter the value n 90\n",
      "90\n",
      "180\n",
      "270\n",
      "360\n",
      "450\n",
      "540\n",
      "630\n",
      "720\n",
      "810\n",
      "900\n"
     ]
    }
   ],
   "source": [
    "n = int(input(\"enter the value n \"))\n",
    "for i in range(1, 11):\n",
    "    print (n*i)\n",
    "    "
   ]
  },
  {
   "cell_type": "code",
   "execution_count": 16,
   "id": "3eecd648",
   "metadata": {},
   "outputs": [
    {
     "name": "stdout",
     "output_type": "stream",
     "text": [
      "enter the value n 2\n",
      "2 * 1 = 2\n",
      "2 * 2 = 4\n",
      "2 * 3 = 6\n",
      "2 * 4 = 8\n",
      "2 * 5 = 10\n",
      "2 * 6 = 12\n",
      "2 * 7 = 14\n",
      "2 * 8 = 16\n",
      "2 * 9 = 18\n",
      "2 * 10 = 20\n"
     ]
    }
   ],
   "source": [
    "n = int(input(\"enter the value n \"))\n",
    "for i in range(1, 11):\n",
    "    print (n, \"*\", i, \"=\", n*i)\n",
    "    "
   ]
  },
  {
   "cell_type": "code",
   "execution_count": null,
   "id": "1e5d7abf",
   "metadata": {},
   "outputs": [],
   "source": [
    "n = int(input(\"enter the value n \"))\n",
    "for i in range(n):\n",
    "    x = int(input(\"enter x= \"))"
   ]
  },
  {
   "cell_type": "markdown",
   "id": "f48c7e0e",
   "metadata": {},
   "source": [
    "s = 0\n",
    "n = int(input(\"enter the value n \"))\n",
    "for i in range(n):\n",
    "    x = int(input(\"enter x= \"))\n",
    "    s = s + n\n",
    "   print(s)"
   ]
  },
  {
   "cell_type": "code",
   "execution_count": 2,
   "id": "7a038050",
   "metadata": {},
   "outputs": [
    {
     "name": "stdout",
     "output_type": "stream",
     "text": [
      "enter the value n 3\n",
      "enter x= 2\n",
      "enter x= 2\n",
      "enter x= 2\n",
      "6\n"
     ]
    }
   ],
   "source": [
    "s = 0\n",
    "n = int(input(\"enter the value n \"))\n",
    "for i in range(n):\n",
    "    x = int(input(\"enter x= \"))\n",
    "    s=s+x\n",
    "print(s)"
   ]
  },
  {
   "cell_type": "code",
   "execution_count": 4,
   "id": "0409bd74",
   "metadata": {},
   "outputs": [
    {
     "name": "stdout",
     "output_type": "stream",
     "text": [
      "enter the value n 3\n",
      "enter x= Sabera\n",
      "enter x= Bijika\n",
      "enter x= Shreeya\n",
      "SaberaBijikaShreeya\n"
     ]
    }
   ],
   "source": [
    "s = ''\n",
    "n = int(input(\"enter the value n \"))\n",
    "for i in range(n):\n",
    "    x = input(\"enter x= \")\n",
    "    s=s+x\n",
    "print(s)"
   ]
  },
  {
   "cell_type": "code",
   "execution_count": 5,
   "id": "1d2d186d",
   "metadata": {},
   "outputs": [
    {
     "name": "stdout",
     "output_type": "stream",
     "text": [
      "enter the value n 3\n",
      "enter x= Sabera\n",
      "enter x= Bijika\n",
      "enter x= Shreeya\n",
      "Sabera Bijika Shreeya \n"
     ]
    }
   ],
   "source": [
    "s = ''\n",
    "n = int(input(\"enter the value n \"))\n",
    "for i in range(n):\n",
    "    x = input(\"enter x= \")\n",
    "    s=s+x + \" \"\n",
    "print(s)"
   ]
  },
  {
   "cell_type": "code",
   "execution_count": null,
   "id": "89bc1dae",
   "metadata": {},
   "outputs": [],
   "source": [
    "s = ''\n",
    "n = int(input(\"enter the value n \"))\n",
    "for i in range(n):\n",
    "    x = input(\"enter x= \")\n",
    "    s=s+x + \"\\n\"\n",
    "print(s)"
   ]
  },
  {
   "cell_type": "code",
   "execution_count": 3,
   "id": "39ce4f6d",
   "metadata": {},
   "outputs": [
    {
     "name": "stdout",
     "output_type": "stream",
     "text": [
      "enter the value n 3\n",
      "enter name = Sabera\n",
      "enter phone = 9866285524\n",
      "enter name = das\n",
      "enter phone = 543\n",
      "enter name = sad\n",
      "enter phone = 432\n",
      "Sabera 9866285524\n",
      "das 543\n",
      "sad 432\n",
      "\n"
     ]
    }
   ],
   "source": [
    "s = ''\n",
    "n = int(input(\"enter the value n \"))\n",
    "for i in range(n):\n",
    "    name = input(\"enter name = \")\n",
    "    phone = input(\"enter phone = \")\n",
    "    s = s + name + \" \" + phone + \"\\n\"\n",
    "print(s)"
   ]
  },
  {
   "cell_type": "code",
   "execution_count": 1,
   "id": "e6e7e8ff",
   "metadata": {},
   "outputs": [
    {
     "name": "stdout",
     "output_type": "stream",
     "text": [
      "enter the value n 2\n",
      "enter a name = shoe\n",
      "enter a price = 2098\n",
      "enter a quantity2\n",
      "shoe 2098.0 2.0 4196.0\n",
      "\n",
      "4196.0\n",
      "enter a name = bags\n",
      "enter a price = 1200\n",
      "enter a quantity3\n",
      "shoe 2098.0 2.0 4196.0\n",
      "bags 1200.0 3.0 3600.0\n",
      "\n",
      "7796.0\n"
     ]
    }
   ],
   "source": [
    "bill = ''\n",
    "all_total = 0\n",
    "n = int(input(\"enter the value n \"))\n",
    "for i in range(n):\n",
    "    name = input(\"enter a name = \")\n",
    "    price = float(input(\"enter a price = \"))\n",
    "    quantity = float(input(\"enter a quantity = \"))\n",
    "    total = price * quantity\n",
    "    bill = bill + name +\" \"+ str(price) +\" \"+ str(quantity) +\" \"+ str(total) +\"\\n\"\n",
    "    all_total = all_total + total\n",
    "    print (bill)\n",
    "    print (all_total)"
   ]
  },
  {
   "cell_type": "code",
   "execution_count": null,
   "id": "18886997",
   "metadata": {},
   "outputs": [],
   "source": []
  },
  {
   "cell_type": "code",
   "execution_count": null,
   "id": "4bd34d27",
   "metadata": {},
   "outputs": [],
   "source": []
  }
 ],
 "metadata": {
  "kernelspec": {
   "display_name": "Python 3 (ipykernel)",
   "language": "python",
   "name": "python3"
  },
  "language_info": {
   "codemirror_mode": {
    "name": "ipython",
    "version": 3
   },
   "file_extension": ".py",
   "mimetype": "text/x-python",
   "name": "python",
   "nbconvert_exporter": "python",
   "pygments_lexer": "ipython3",
   "version": "3.11.5"
  }
 },
 "nbformat": 4,
 "nbformat_minor": 5
}
