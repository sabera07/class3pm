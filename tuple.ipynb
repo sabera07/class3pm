{
 "cells": [
  {
   "cell_type": "code",
   "execution_count": 1,
   "id": "fda9e873",
   "metadata": {},
   "outputs": [
    {
     "name": "stdout",
     "output_type": "stream",
     "text": [
      "<class 'tuple'>\n"
     ]
    }
   ],
   "source": [
    "t = (1,2,3,4,5)\n",
    "k = (\"apple\",\"ball\",\"cat\")\n",
    "print(type(t))"
   ]
  },
  {
   "cell_type": "code",
   "execution_count": 4,
   "id": "72959cb2",
   "metadata": {},
   "outputs": [
    {
     "name": "stdout",
     "output_type": "stream",
     "text": [
      "apple\n",
      "4\n"
     ]
    }
   ],
   "source": [
    "print (k[0])\n",
    "print (t[3])"
   ]
  },
  {
   "cell_type": "code",
   "execution_count": 6,
   "id": "8b7e0de1",
   "metadata": {},
   "outputs": [
    {
     "name": "stdout",
     "output_type": "stream",
     "text": [
      "(1, 2, 3, 4, 5, 6)\n"
     ]
    }
   ],
   "source": [
    "t=(1,2,3)\n",
    "k=(4,5,6)\n",
    "print(t+k)"
   ]
  },
  {
   "cell_type": "code",
   "execution_count": 7,
   "id": "c41db0d2",
   "metadata": {},
   "outputs": [
    {
     "name": "stdout",
     "output_type": "stream",
     "text": [
      "(1, 2, 3, 1, 2, 3)\n"
     ]
    }
   ],
   "source": [
    "t=(1,2,3)\n",
    "print(t*2)"
   ]
  },
  {
   "cell_type": "code",
   "execution_count": null,
   "id": "95c1f756",
   "metadata": {},
   "outputs": [],
   "source": [
    "t= ()\n",
    "n=int(input(\"enter n= \"))\n",
    "for i in range(n):\n",
    "    x = int(input(\"enter x \"))\n",
    "    t= t +(x,)\n",
    "print(t)"
   ]
  },
  {
   "cell_type": "code",
   "execution_count": 1,
   "id": "c59bb277",
   "metadata": {},
   "outputs": [
    {
     "name": "stdout",
     "output_type": "stream",
     "text": [
      "<class 'int'>\n"
     ]
    }
   ],
   "source": [
    "i = (1)\n",
    "print(type(i))"
   ]
  },
  {
   "cell_type": "code",
   "execution_count": 3,
   "id": "038b0f59",
   "metadata": {},
   "outputs": [
    {
     "data": {
      "text/plain": [
       "['bijika', 19, 'panauti']"
      ]
     },
     "execution_count": 3,
     "metadata": {},
     "output_type": "execute_result"
    }
   ],
   "source": [
    "t=('bijika',19,'panauti')\n",
    "l=list(t)\n",
    "l"
   ]
  },
  {
   "cell_type": "code",
   "execution_count": 4,
   "id": "d2137e4a",
   "metadata": {},
   "outputs": [
    {
     "name": "stdout",
     "output_type": "stream",
     "text": [
      "<class 'tuple'>\n"
     ]
    }
   ],
   "source": [
    "a = (1,2,3)\n",
    "print(type(a))"
   ]
  },
  {
   "cell_type": "code",
   "execution_count": 8,
   "id": "52e807f7",
   "metadata": {},
   "outputs": [
    {
     "name": "stdout",
     "output_type": "stream",
     "text": [
      "Enter n = 2\n",
      "Enter x = 564\n",
      "564\n",
      "Enter x = 54\n",
      "54\n"
     ]
    }
   ],
   "source": [
    "l = []\n",
    "# l = list()\n",
    "n = int(input('Enter n = '))\n",
    "for i in range(n):\n",
    "    x = int(input(\"Enter x = \"))\n",
    "    l.append(x)\n",
    "    print (l)"
   ]
  },
  {
   "cell_type": "code",
   "execution_count": null,
   "id": "0fdbeb4b",
   "metadata": {},
   "outputs": [],
   "source": [
    "\n",
    "\n"
   ]
  }
 ],
 "metadata": {
  "kernelspec": {
   "display_name": "Python 3 (ipykernel)",
   "language": "python",
   "name": "python3"
  },
  "language_info": {
   "codemirror_mode": {
    "name": "ipython",
    "version": 3
   },
   "file_extension": ".py",
   "mimetype": "text/x-python",
   "name": "python",
   "nbconvert_exporter": "python",
   "pygments_lexer": "ipython3",
   "version": "3.11.5"
  }
 },
 "nbformat": 4,
 "nbformat_minor": 5
}
