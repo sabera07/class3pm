{
 "cells": [
  {
   "cell_type": "code",
   "execution_count": 3,
   "id": "ff667a65",
   "metadata": {},
   "outputs": [
    {
     "name": "stdout",
     "output_type": "stream",
     "text": [
      "0 Hello World\n",
      "1 Hello World\n",
      "2 Hello World\n",
      "3 Hello World\n",
      "4 Hello World\n"
     ]
    }
   ],
   "source": [
    "\n",
    "a = 0\n",
    "while a<5:\n",
    "    print(a,\"Hello World\")\n",
    "    a = a+1"
   ]
  },
  {
   "cell_type": "code",
   "execution_count": 5,
   "id": "42c8015d",
   "metadata": {},
   "outputs": [
    {
     "name": "stdout",
     "output_type": "stream",
     "text": [
      "1 Hello World\n",
      "4 Hello World\n",
      "7 Hello World\n"
     ]
    }
   ],
   "source": [
    "a = 1\n",
    "while a<9:\n",
    "    print(a,\"Hello World\")\n",
    "    a = a+3"
   ]
  },
  {
   "cell_type": "code",
   "execution_count": 8,
   "id": "b85d1ef0",
   "metadata": {},
   "outputs": [
    {
     "name": "stdout",
     "output_type": "stream",
     "text": [
      "enter a number8\n",
      "8\n",
      "16\n",
      "24\n",
      "32\n",
      "40\n",
      "48\n",
      "56\n",
      "64\n",
      "72\n",
      "80\n"
     ]
    }
   ],
   "source": [
    "i = 1\n",
    "n = int(input(\"enter a number\"))\n",
    "while i<=10:\n",
    "    print (n*i)\n",
    "    i += 1"
   ]
  },
  {
   "cell_type": "code",
   "execution_count": 9,
   "id": "2ac6d53d",
   "metadata": {},
   "outputs": [
    {
     "name": "stdout",
     "output_type": "stream",
     "text": [
      "enter a number5\n",
      "5 * 1 = 5\n",
      "5 * 2 = 10\n",
      "5 * 3 = 15\n",
      "5 * 4 = 20\n",
      "5 * 5 = 25\n",
      "5 * 6 = 30\n",
      "5 * 7 = 35\n",
      "5 * 8 = 40\n",
      "5 * 9 = 45\n",
      "5 * 10 = 50\n"
     ]
    }
   ],
   "source": [
    "i = 1\n",
    "n = int(input(\"enter a n= \"))\n",
    "while i<=10:\n",
    "    print (n, \"*\",i,\"=\",n*i)\n",
    "    i += 1"
   ]
  },
  {
   "cell_type": "code",
   "execution_count": 1,
   "id": "05f41c30",
   "metadata": {},
   "outputs": [
    {
     "name": "stdout",
     "output_type": "stream",
     "text": [
      "enter n= 2\n",
      "enter x= 4\n",
      "enter x= 4\n",
      "8\n"
     ]
    }
   ],
   "source": [
    "s = 0\n",
    "i = 0\n",
    "n = int(input(\"enter n= \"))\n",
    "while i<n:\n",
    "    x = int(input(\"enter x= \"))\n",
    "    s = s+x\n",
    "    i = i+1\n",
    "print (s)"
   ]
  },
  {
   "cell_type": "code",
   "execution_count": 1,
   "id": "801b2ee0",
   "metadata": {},
   "outputs": [
    {
     "name": "stdout",
     "output_type": "stream",
     "text": [
      "enter n = 5\n",
      "120\n"
     ]
    }
   ],
   "source": [
    "fac= 1\n",
    "i = 1\n",
    "n = int(input(\"enter n = \"))\n",
    "while i<=n:\n",
    "    fac= fac*i\n",
    "    i = i+1\n",
    "print(fac)"
   ]
  },
  {
   "cell_type": "code",
   "execution_count": 5,
   "id": "827d5869",
   "metadata": {},
   "outputs": [
    {
     "name": "stdout",
     "output_type": "stream",
     "text": [
      "0\n",
      "1\n",
      "2\n",
      "3\n",
      "4\n",
      "6\n",
      "7\n",
      "8\n",
      "9\n",
      "10\n"
     ]
    }
   ],
   "source": [
    "i = 0\n",
    "while i <= 10:\n",
    "    if i == 5:\n",
    "         i = i+1\n",
    "            continue\n",
    "    print (i)\n",
    "    i=i+1"
   ]
  },
  {
   "cell_type": "code",
   "execution_count": 2,
   "id": "6e0e7d27",
   "metadata": {},
   "outputs": [
    {
     "name": "stdout",
     "output_type": "stream",
     "text": [
      "enter a number 9\n",
      "The number is composite\n"
     ]
    }
   ],
   "source": [
    "i = 2\n",
    "n = int(input(\"enter a number \"))\n",
    "while i<n:\n",
    "    if n%i==0:\n",
    "        print(\"The number is composite\")\n",
    "        break\n",
    "    i = i+1\n",
    "else:\n",
    "    print(\"The number is prime\")\n"
   ]
  },
  {
   "cell_type": "code",
   "execution_count": null,
   "id": "7e13ad8c",
   "metadata": {},
   "outputs": [],
   "source": [
    "s = ''\n",
    "n = int(input(\"enter the value n \"))\n",
    "for i in range(n):\n",
    "    name = input(\"enter name = \")\n",
    "    phone = input(\"enter phone = \")\n",
    "    s = s + name + \" \" + phone + \"\\n\"\n",
    "print(s)"
   ]
  },
  {
   "cell_type": "code",
   "execution_count": 2,
   "id": "f6f31693",
   "metadata": {},
   "outputs": [
    {
     "name": "stdout",
     "output_type": "stream",
     "text": [
      "enter a number2\n",
      "enter name = sabera\n",
      "enter phone = 98764332\n",
      "enter name = eara\n",
      "enter phone = 665433\n",
      "sabera 98764332\n",
      "eara 665433\n",
      "\n"
     ]
    }
   ],
   "source": [
    "i = 0\n",
    "s = ''\n",
    "n = int(input(\"enter a number \"))\n",
    "while i<n:\n",
    "     name = input(\"enter name = \")\n",
    "     phone = input(\"enter phone = \")\n",
    "     s = s+ name + \" \" + phone + \"\\n\"\n",
    "     i = i + 1\n",
    "print (s)\n"
   ]
  },
  {
   "cell_type": "code",
   "execution_count": null,
   "id": "bfff16fa",
   "metadata": {},
   "outputs": [],
   "source": [
    "bill = ''\n",
    "all_total = 0\n",
    "n = int(input(\"enter the value n \"))\n",
    "for i in range(n):\n",
    "    name = input(\"enter a name = \")\n",
    "    price = float(input(\"enter a price = \"))\n",
    "    quantity = float(input(\"enter a quantity = \"))\n",
    "    total = price * quantity\n",
    "    bill = bill + name +\" \"+ str(price) +\" \"+ str(quantity) +\" \"+ str(total) +\"\\n\"\n",
    "    all_total = all_total + total\n",
    "    print (bill)\n",
    "    print (all_total)"
   ]
  },
  {
   "cell_type": "code",
   "execution_count": null,
   "id": "a33cdacb",
   "metadata": {},
   "outputs": [],
   "source": [
    "i = 0\n",
    "bill = \" \"\n",
    "all_total = 0\n",
    "n = int(input(\"enter a number \"))\n",
    "while i<n:\n",
    "    name = input(\"enter a name = \")\n",
    "    price = float(input(\"enter a price = \"))\n",
    "    quantity = float(input(\"enter a quantity = \"))\n",
    "    total = price * quantity\n",
    "    bill = bill + name +\" \"+ str(price) +\" \"+ str(quantity) +\" \"+ str(total) +\"\\n\"\n",
    "    all_total = all_total + total\n",
    "    i = i + 1\n",
    "print (bill)\n",
    "print (\"the total cost is\",all_total)"
   ]
  },
  {
   "cell_type": "code",
   "execution_count": 4,
   "id": "d18b4c74",
   "metadata": {},
   "outputs": [
    {
     "data": {
      "text/plain": [
       "range(0, 5)"
      ]
     },
     "execution_count": 4,
     "metadata": {},
     "output_type": "execute_result"
    }
   ],
   "source": [
    " range(5)"
   ]
  },
  {
   "cell_type": "code",
   "execution_count": null,
   "id": "b33906c8",
   "metadata": {},
   "outputs": [],
   "source": []
  }
 ],
 "metadata": {
  "kernelspec": {
   "display_name": "Python 3 (ipykernel)",
   "language": "python",
   "name": "python3"
  },
  "language_info": {
   "codemirror_mode": {
    "name": "ipython",
    "version": 3
   },
   "file_extension": ".py",
   "mimetype": "text/x-python",
   "name": "python",
   "nbconvert_exporter": "python",
   "pygments_lexer": "ipython3",
   "version": "3.11.5"
  }
 },
 "nbformat": 4,
 "nbformat_minor": 5
}
