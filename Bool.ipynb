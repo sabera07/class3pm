{
 "cells": [
  {
   "cell_type": "code",
   "execution_count": null,
   "id": "ebb7a803",
   "metadata": {},
   "outputs": [],
   "source": [
    "phy = float(input(\"enter phy \"))\n",
    "chem = float(input(\"enter chem \"))\n",
    "math = float(input(\"enter math \"))\n",
    "eng = float(input(\"enter eng \"))\n",
    "nep = float(input(\"enter nep \"))\n",
    "\n",
    "total = phy + chem + math + eng + nep\n",
    "per = total/5\n",
    "print (\"result \",total)\n",
    "print(\"per \",per)"
   ]
  },
  {
   "cell_type": "code",
   "execution_count": 5,
   "id": "419dd1eb",
   "metadata": {},
   "outputs": [
    {
     "name": "stdout",
     "output_type": "stream",
     "text": [
      "True\n"
     ]
    }
   ],
   "source": [
    "a=20\n",
    "b = bool(a)\n",
    "print (b)"
   ]
  },
  {
   "cell_type": "code",
   "execution_count": 1,
   "id": "4b4abd63",
   "metadata": {},
   "outputs": [
    {
     "name": "stdout",
     "output_type": "stream",
     "text": [
      "True\n",
      "False\n",
      "False\n",
      "True\n"
     ]
    }
   ],
   "source": [
    "a = 25\n",
    "b = 12\n",
    "print (a >= b)\n",
    "\n",
    "print (a <= b)\n",
    "\n",
    "print (a == b)\n",
    "\n",
    "print (a != b)"
   ]
  },
  {
   "cell_type": "code",
   "execution_count": 5,
   "id": "3ca6b32d",
   "metadata": {},
   "outputs": [
    {
     "name": "stdout",
     "output_type": "stream",
     "text": [
      "enter a number 1235789\n",
      "it is odd\n"
     ]
    }
   ],
   "source": [
    "a = float(input(\"enter a number \"))\n",
    "if a%2 == 0:\n",
    "    print (\"it is even\")\n",
    "else:\n",
    "    print (\"it is odd\")\n",
    "    \n"
   ]
  },
  {
   "cell_type": "code",
   "execution_count": 4,
   "id": "3800107c",
   "metadata": {},
   "outputs": [
    {
     "name": "stdout",
     "output_type": "stream",
     "text": [
      "enter a number 87\n",
      "enter a number 98\n",
      "b is greater\n"
     ]
    }
   ],
   "source": [
    "a = int(input(\"enter a number \"))\n",
    "b = int(input(\"enter a number \"))\n",
    "if a > b:\n",
    "    print(\"a is greater\")\n",
    "else:\n",
    "    print(\"b is greater\")"
   ]
  },
  {
   "cell_type": "code",
   "execution_count": 3,
   "id": "e26fccab",
   "metadata": {},
   "outputs": [
    {
     "name": "stdout",
     "output_type": "stream",
     "text": [
      "enter a number 90\n",
      "enter a number 99\n",
      "enter a number 89\n",
      "enter a number 81\n",
      "Your total is  359.0\n",
      "Your percentage is  89.75\n"
     ]
    }
   ],
   "source": [
    "English = float(input(\"enter a number \"))\n",
    "Nepali = float(input(\"enter a number \"))\n",
    "Math = float(input(\"enter a number \"))\n",
    "Physics = float(input(\"enter a number \"))\n",
    "\n",
    "total = English + Nepali + Math + Physics\n",
    "\n",
    "per = total/4\n",
    "\n",
    "print (\"Your total is \", total)\n",
    "print (\"Your percentage is \", per)\n"
   ]
  },
  {
   "cell_type": "code",
   "execution_count": 3,
   "id": "eec13a51",
   "metadata": {},
   "outputs": [
    {
     "name": "stdout",
     "output_type": "stream",
     "text": [
      "Enter a number 87\n",
      "Enter a number 88\n",
      "Enter a number 98\n",
      "Enter a number 87\n",
      "The grade is A\n",
      "the total is  360.0\n",
      "the percentage is  90.0\n"
     ]
    }
   ],
   "source": [
    "English = float(input(\"Enter a number \"))\n",
    "Nepali = float(input(\"Enter a number \"))\n",
    "Maths = float(input(\"Enter a number \"))\n",
    "Science = float(input(\"Enter a number \"))\n",
    "total = English + Nepali + Maths + Science\n",
    "\n",
    "per = total/4\n",
    "if per >= 80:\n",
    "    print (\"The grade is A\")\n",
    "elif per >= 60:\n",
    "    print (\"The grade is B\")\n",
    "elif per >= 45:\n",
    "    print (\"The grade is C\")\n",
    "else:\n",
    "    print (\"The grade is F\")\n",
    "\n",
    "print (\"the total is \", total)\n",
    "print (\"the percentage is \",per)"
   ]
  },
  {
   "cell_type": "code",
   "execution_count": null,
   "id": "09b1af84",
   "metadata": {},
   "outputs": [],
   "source": []
  }
 ],
 "metadata": {
  "kernelspec": {
   "display_name": "Python 3 (ipykernel)",
   "language": "python",
   "name": "python3"
  },
  "language_info": {
   "codemirror_mode": {
    "name": "ipython",
    "version": 3
   },
   "file_extension": ".py",
   "mimetype": "text/x-python",
   "name": "python",
   "nbconvert_exporter": "python",
   "pygments_lexer": "ipython3",
   "version": "3.11.5"
  }
 },
 "nbformat": 4,
 "nbformat_minor": 5
}
