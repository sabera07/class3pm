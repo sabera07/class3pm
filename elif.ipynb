{
 "cells": [
  {
   "cell_type": "code",
   "execution_count": null,
   "id": "12ccaa43",
   "metadata": {},
   "outputs": [],
   "source": []
  },
  {
   "cell_type": "code",
   "execution_count": 2,
   "id": "ccc6d8fd",
   "metadata": {},
   "outputs": [
    {
     "ename": "SyntaxError",
     "evalue": "invalid syntax (4138990249.py, line 1)",
     "output_type": "error",
     "traceback": [
      "\u001b[1;36m  Cell \u001b[1;32mIn[2], line 1\u001b[1;36m\u001b[0m\n\u001b[1;33m    if <condition>:\u001b[0m\n\u001b[1;37m       ^\u001b[0m\n\u001b[1;31mSyntaxError\u001b[0m\u001b[1;31m:\u001b[0m invalid syntax\n"
     ]
    }
   ],
   "source": [
    "if <condition>:\n",
    "    if <condition>:\n",
    "        <operation>\n",
    "    else:\n",
    "        <operation>"
   ]
  },
  {
   "cell_type": "code",
   "execution_count": 2,
   "id": "bad86fbc",
   "metadata": {},
   "outputs": [
    {
     "name": "stdout",
     "output_type": "stream",
     "text": [
      "enter a = 46\n",
      "enter b = 58\n",
      "+ - * /*\n",
      "2668\n"
     ]
    }
   ],
   "source": [
    "a = int(input(\"enter a = \"))\n",
    "b = int(input(\"enter b = \"))\n",
    "o = input(\"+ - * /\")\n",
    "if o == '+':\n",
    "    print(a+b)\n",
    "elif o == '-':\n",
    "    print (a-b)\n",
    "elif o == '*':\n",
    "    print (a * b)\n",
    "elif o == '/':\n",
    "    if b != 0:\n",
    "        print (a / b)\n",
    "    else:\n",
    "        print (\"b can not be 0\")\n",
    "else:\n",
    "    print (\"please enter a valid operation.\")\n",
    "    \n",
    "    \n",
    "\n",
    "\n"
   ]
  },
  {
   "cell_type": "code",
   "execution_count": 6,
   "id": "92feaedb",
   "metadata": {},
   "outputs": [
    {
     "name": "stdout",
     "output_type": "stream",
     "text": [
      "enter a number67\n",
      "a is +ve and odd\n"
     ]
    }
   ],
   "source": [
    "a = int(input(\"enter a number\"))\n",
    "if a >= 0:\n",
    "    if a%2==0:\n",
    "        print(\"a is +ve and even\")\n",
    "    else:\n",
    "        print(\"a is +ve and odd\")\n",
    "else:\n",
    "    if a%2==0:\n",
    "        print(\"a is -ve and even\")\n",
    "    else:\n",
    "        print(\"a is -ve and odd\")"
   ]
  },
  {
   "cell_type": "code",
   "execution_count": 1,
   "id": "59f611b3",
   "metadata": {},
   "outputs": [
    {
     "name": "stdout",
     "output_type": "stream",
     "text": [
      "enter a = 78\n",
      "enter b = 5\n",
      "+ - * //\n",
      "15.6\n"
     ]
    }
   ],
   "source": [
    "a = int(input(\"enter a = \"))\n",
    "b = int(input(\"enter b = \"))\n",
    "o = input(\"+ - * /\")\n",
    "if o == '+':\n",
    "    print(a+b)\n",
    "elif o == '-':\n",
    "    print (a-b)\n",
    "elif o == '*':\n",
    "    print (a * b)\n",
    "elif o == '/' and  b != 0 :\n",
    "    print (a / b)\n",
    "elif o == '/' and  b == 0 :\n",
    "    print (\"b can not be 0\")\n",
    "else:\n",
    "    print (\"please enter a valid operation.\")\n",
    "    "
   ]
  },
  {
   "cell_type": "code",
   "execution_count": null,
   "id": "d229921b",
   "metadata": {},
   "outputs": [],
   "source": []
  },
  {
   "cell_type": "code",
   "execution_count": null,
   "id": "91b61438",
   "metadata": {},
   "outputs": [],
   "source": []
  }
 ],
 "metadata": {
  "kernelspec": {
   "display_name": "Python 3 (ipykernel)",
   "language": "python",
   "name": "python3"
  },
  "language_info": {
   "codemirror_mode": {
    "name": "ipython",
    "version": 3
   },
   "file_extension": ".py",
   "mimetype": "text/x-python",
   "name": "python",
   "nbconvert_exporter": "python",
   "pygments_lexer": "ipython3",
   "version": "3.11.5"
  }
 },
 "nbformat": 4,
 "nbformat_minor": 5
}
